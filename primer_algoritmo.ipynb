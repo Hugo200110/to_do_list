{
  "metadata": {
    "kernelspec": {
      "name": "python",
      "display_name": "Python (Pyodide)",
      "language": "python"
    },
    "language_info": {
      "codemirror_mode": {
        "name": "python",
        "version": 3
      },
      "file_extension": ".py",
      "mimetype": "text/x-python",
      "name": "python",
      "nbconvert_exporter": "python",
      "pygments_lexer": "ipython3",
      "version": "3.8"
    }
  },
  "nbformat_minor": 5,
  "nbformat": 4,
  "cells": [
    {
      "id": "e55c1b1f-7f76-4bd2-8104-9b833e592b1c",
      "cell_type": "code",
      "source": "",
      "metadata": {
        "trusted": true
      },
      "outputs": [],
      "execution_count": null
    },
    {
      "id": "edba909c-9e9c-4b47-99fd-398de7eb78ba",
      "cell_type": "code",
      "source": "tareas = []\n\ndef mostrar_menu():\n    return [\n        \"1. Ver tareas\",\n        \"2. Agregar tarea\",\n        \"3. Completar tarea\",\n        \"4. Eliminar tarea\",\n        \"5. Salir\"\n    ]\n\ndef ver_tareas():\n    if not tareas:\n        return [\"No hay tareas pendientes.\"]\n    else:\n        lista = []\n        for i, tarea in enumerate(tareas, start=1):\n            estado = \"✔️\" if tarea[\"completada\"] else \"❌\"\n            lista.append(f\"{i}. {tarea['nombre']} [{estado}]\")\n        return lista\n\ndef agregar_tarea(nombre):\n    tareas.append({\"nombre\": nombre, \"completada\": False})\n    return f\"Tarea '{nombre}' agregada.\"\n\ndef completar_tarea(indice):\n    if 0 <= indice < len(tareas):\n        tareas[indice][\"completada\"] = True\n        return f\"Tarea '{tareas[indice]['nombre']}' marcada como completada.\"\n    return \"Índice no válido.\"\n\ndef eliminar_tarea(indice):\n    if 0 <= indice < len(tareas):\n        eliminada = tareas.pop(indice)\n        return f\"Tarea '{eliminada['nombre']}' eliminada.\"\n    return \"Índice no válido.\"\n\nmostrar_menu()\nagregar_tarea(\"aprender python\")\nagregar_tarea(\"estudiar ingles por ddiseño\")\nagregar_tarea(\"hacer 100 lagartijas diario\")\nagregar_tarea(\"estudiar programacion minimamente 1 hora al dia\")\nver_tareas()\ncompletar_tarea(0)\neliminar_tarea(0)\nmostrar_menu()\nver_tareas()\nmostrar_menu()\n",
      "metadata": {
        "trusted": true
      },
      "outputs": [
        {
          "execution_count": 12,
          "output_type": "execute_result",
          "data": {
            "text/plain": "['1. estudiar ingles por ddiseño [❌]',\n '2. hacer 100 lagartijas diario [❌]',\n '3. estudiar programacion minimamente 1 hora al dia [❌]']"
          },
          "metadata": {}
        }
      ],
      "execution_count": 12
    },
    {
      "id": "b4ef4ca1-69ad-4eef-9f54-fc0a2e8d2d56",
      "cell_type": "code",
      "source": "import os\nos.getcwd()",
      "metadata": {
        "trusted": true
      },
      "outputs": [
        {
          "execution_count": 1,
          "output_type": "execute_result",
          "data": {
            "text/plain": "'/drive'"
          },
          "metadata": {}
        }
      ],
      "execution_count": 1
    },
    {
      "id": "c3685055-6780-4e4b-8774-153f1a550362",
      "cell_type": "code",
      "source": "hugo = 10 + 4\nprint(hugo)",
      "metadata": {
        "trusted": true
      },
      "outputs": [
        {
          "ename": "<class 'TypeError'>",
          "evalue": "'int' object is not callable",
          "traceback": [
            "\u001b[0;31m---------------------------------------------------------------------------\u001b[0m",
            "\u001b[0;31mTypeError\u001b[0m                                 Traceback (most recent call last)",
            "Cell \u001b[0;32mIn[5], line 2\u001b[0m\n\u001b[1;32m      1\u001b[0m hugo \u001b[38;5;241m=\u001b[39m \u001b[38;5;241m10\u001b[39m \u001b[38;5;241m+\u001b[39m \u001b[38;5;241m4\u001b[39m\n\u001b[0;32m----> 2\u001b[0m \u001b[38;5;28;43mprint\u001b[39;49m\u001b[43m(\u001b[49m\u001b[43mhugo\u001b[49m\u001b[43m)\u001b[49m\n",
            "\u001b[0;31mTypeError\u001b[0m: 'int' object is not callable"
          ],
          "output_type": "error"
        }
      ],
      "execution_count": 5
    },
    {
      "id": "069348ed-460d-42c4-a8a9-38e9bead7086",
      "cell_type": "code",
      "source": "",
      "metadata": {
        "trusted": true
      },
      "outputs": [],
      "execution_count": null
    }
  ]
}